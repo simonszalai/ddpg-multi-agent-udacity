{
 "cells": [
  {
   "cell_type": "markdown",
   "metadata": {},
   "source": [
    "# Collaboration and Competition\n",
    "\n",
    "---\n",
    "\n",
    "You are welcome to use this coding environment to train your agent for the project.  Follow the instructions below to get started!\n",
    "\n",
    "### 1. Start the Environment\n",
    "\n",
    "Run the next code cell to install a few packages.  This line will take a few minutes to run!"
   ]
  },
  {
   "cell_type": "code",
   "execution_count": 1,
   "metadata": {},
   "outputs": [
    {
     "ename": "ModuleNotFoundError",
     "evalue": "No module named 'unityagents'",
     "output_type": "error",
     "traceback": [
      "\u001b[0;31m---------------------------------------------------------------------------\u001b[0m",
      "\u001b[0;31mModuleNotFoundError\u001b[0m                       Traceback (most recent call last)",
      "\u001b[0;32m<ipython-input-1-6cea5512d31f>\u001b[0m in \u001b[0;36m<module>\u001b[0;34m\u001b[0m\n\u001b[0;32m----> 1\u001b[0;31m \u001b[0;32mfrom\u001b[0m \u001b[0munityagents\u001b[0m \u001b[0;32mimport\u001b[0m \u001b[0mUnityEnvironment\u001b[0m\u001b[0;34m\u001b[0m\u001b[0;34m\u001b[0m\u001b[0m\n\u001b[0m\u001b[1;32m      2\u001b[0m \u001b[0;32mimport\u001b[0m \u001b[0mnumpy\u001b[0m \u001b[0;32mas\u001b[0m \u001b[0mnp\u001b[0m\u001b[0;34m\u001b[0m\u001b[0;34m\u001b[0m\u001b[0m\n\u001b[1;32m      3\u001b[0m \u001b[0;32mfrom\u001b[0m \u001b[0mcollections\u001b[0m \u001b[0;32mimport\u001b[0m \u001b[0mdeque\u001b[0m\u001b[0;34m\u001b[0m\u001b[0;34m\u001b[0m\u001b[0m\n\u001b[1;32m      4\u001b[0m \u001b[0;32mimport\u001b[0m \u001b[0mtorch\u001b[0m\u001b[0;34m\u001b[0m\u001b[0;34m\u001b[0m\u001b[0m\n\u001b[1;32m      5\u001b[0m \u001b[0;32mimport\u001b[0m \u001b[0mtime\u001b[0m\u001b[0;34m\u001b[0m\u001b[0;34m\u001b[0m\u001b[0m\n",
      "\u001b[0;31mModuleNotFoundError\u001b[0m: No module named 'unityagents'"
     ]
    }
   ],
   "source": [
    "from unityagents import UnityEnvironment\n",
    "import numpy as np\n",
    "from collections import deque\n",
    "import torch\n",
    "import time\n",
    "from itertools import count\n",
    "import matplotlib.pyplot as plt\n",
    "%matplotlib inline\n",
    "\n",
    "from ddpg_agent import Agent"
   ]
  },
  {
   "cell_type": "markdown",
   "metadata": {},
   "source": [
    "Next, we will start the environment!  **_Before running the code cell below_**, change the `file_name` parameter to match the location of the Unity environment that you downloaded.\n",
    "\n",
    "- **Mac**: `\"path/to/Reacher.app\"`\n",
    "- **Windows** (x86): `\"path/to/Reacher_Windows_x86/Reacher.exe\"`\n",
    "- **Windows** (x86_64): `\"path/to/Reacher_Windows_x86_64/Reacher.exe\"`\n",
    "- **Linux** (x86): `\"path/to/Reacher_Linux/Reacher.x86\"`\n",
    "- **Linux** (x86_64): `\"path/to/Reacher_Linux/Reacher.x86_64\"`\n",
    "- **Linux** (x86, headless): `\"path/to/Reacher_Linux_NoVis/Reacher.x86\"`\n",
    "- **Linux** (x86_64, headless): `\"path/to/Reacher_Linux_NoVis/Reacher.x86_64\"`\n",
    "\n",
    "For instance, if you are using a Mac, then you downloaded `Reacher.app`.  If this file is in the same folder as the notebook, then the line below should appear as follows:\n",
    "```\n",
    "env = UnityEnvironment(file_name=\"Reacher.app\")\n",
    "```"
   ]
  },
  {
   "cell_type": "code",
   "execution_count": 2,
   "metadata": {},
   "outputs": [
    {
     "name": "stderr",
     "output_type": "stream",
     "text": [
      "INFO:unityagents:\n",
      "'Academy' started successfully!\n",
      "Unity Academy name: Academy\n",
      "        Number of Brains: 1\n",
      "        Number of External Brains : 1\n",
      "        Lesson number : 0\n",
      "        Reset Parameters :\n",
      "\t\tgoal_size -> 5.0\n",
      "\t\tgoal_speed -> 1.0\n",
      "Unity brain name: ReacherBrain\n",
      "        Number of Visual Observations (per agent): 0\n",
      "        Vector Observation space type: continuous\n",
      "        Vector Observation space size (per agent): 33\n",
      "        Number of stacked Vector Observation: 1\n",
      "        Vector Action space type: continuous\n",
      "        Vector Action space size (per agent): 4\n",
      "        Vector Action descriptions: , , , \n"
     ]
    }
   ],
   "source": [
    "env = UnityEnvironment(file_name='Reacher')"
   ]
  },
  {
   "cell_type": "markdown",
   "metadata": {},
   "source": [
    "Environments contain **_brains_** which are responsible for deciding the actions of their associated agents. Here we check for the first brain available, and set it as the default brain we will be controlling from Python."
   ]
  },
  {
   "cell_type": "code",
   "execution_count": 3,
   "metadata": {},
   "outputs": [],
   "source": [
    "# get the default brain\n",
    "brain_name = env.brain_names[0]\n",
    "brain = env.brains[brain_name]"
   ]
  },
  {
   "cell_type": "markdown",
   "metadata": {},
   "source": [
    "### 2. Examine the State and Action Spaces\n",
    "\n",
    "In this environment, a double-jointed arm can move to target locations. A reward of `+0.1` is provided for each step that the agent's hand is in the goal location. Thus, the goal of your agent is to maintain its position at the target location for as many time steps as possible.\n",
    "\n",
    "The observation space consists of `33` variables corresponding to position, rotation, velocity, and angular velocities of the arm.  Each action is a vector with four numbers, corresponding to torque applicable to two joints.  Every entry in the action vector must be a number between `-1` and `1`.\n",
    "\n",
    "Run the code cell below to print some information about the environment."
   ]
  },
  {
   "cell_type": "code",
   "execution_count": 4,
   "metadata": {},
   "outputs": [
    {
     "name": "stdout",
     "output_type": "stream",
     "text": [
      "Number of agents: 20\n",
      "Size of each action: 4\n",
      "There are 20 agents. Each observes a state with length: 33\n",
      "The state for the first agent looks like: [ 0.00000000e+00 -4.00000000e+00  0.00000000e+00  1.00000000e+00\n",
      " -0.00000000e+00 -0.00000000e+00 -4.37113883e-08  0.00000000e+00\n",
      "  0.00000000e+00  0.00000000e+00  0.00000000e+00  0.00000000e+00\n",
      "  0.00000000e+00  0.00000000e+00 -1.00000000e+01  0.00000000e+00\n",
      "  1.00000000e+00 -0.00000000e+00 -0.00000000e+00 -4.37113883e-08\n",
      "  0.00000000e+00  0.00000000e+00  0.00000000e+00  0.00000000e+00\n",
      "  0.00000000e+00  0.00000000e+00  5.75471878e+00 -1.00000000e+00\n",
      "  5.55726624e+00  0.00000000e+00  1.00000000e+00  0.00000000e+00\n",
      " -1.68164849e-01]\n"
     ]
    }
   ],
   "source": [
    "# reset the environment\n",
    "env_info = env.reset(train_mode=True)[brain_name]\n",
    "\n",
    "# number of agents\n",
    "num_agents = len(env_info.agents)\n",
    "print('Number of agents:', num_agents)\n",
    "\n",
    "# size of each action\n",
    "action_size = brain.vector_action_space_size\n",
    "print('Size of each action:', action_size)\n",
    "\n",
    "# examine the state space \n",
    "states = env_info.vector_observations\n",
    "state_size = states.shape[1]\n",
    "print('There are {} agents. Each observes a state with length: {}'.format(states.shape[0], state_size))\n",
    "print('The state for the first agent looks like:', states[0])"
   ]
  },
  {
   "cell_type": "markdown",
   "metadata": {},
   "source": [
    "### 3. Train the agent"
   ]
  },
  {
   "cell_type": "code",
   "execution_count": 5,
   "metadata": {},
   "outputs": [],
   "source": [
    "agent = Agent(state_size=state_size, action_size=action_size, random_seed=2)\n",
    "avg_over = 100"
   ]
  },
  {
   "cell_type": "code",
   "execution_count": 6,
   "metadata": {},
   "outputs": [
    {
     "name": "stderr",
     "output_type": "stream",
     "text": [
      "/Users/simon/dev/ddpg-continuous-control-udacity/ddpg_agent.py:129: UserWarning: torch.nn.utils.clip_grad_norm is now deprecated in favor of torch.nn.utils.clip_grad_norm_.\n",
      "  torch.nn.utils.clip_grad_norm(self.critic_local.parameters(), 1)\n"
     ]
    },
    {
     "name": "stdout",
     "output_type": "stream",
     "text": [
      "Episode 1\tAverage Score: 0.63\n",
      "Episode 2\tAverage Score: 0.81\n",
      "Episode 3\tAverage Score: 0.80\n",
      "Episode 4\tAverage Score: 0.89\n",
      "Episode 5\tAverage Score: 0.85\n",
      "Episode 6\tAverage Score: 0.88\n",
      "Episode 7\tAverage Score: 0.91\n",
      "Episode 8\tAverage Score: 0.93\n",
      "Episode 9\tAverage Score: 0.93\n",
      "Episode 10\tAverage Score: 0.92\n",
      "Episode 11\tAverage Score: 0.90\n",
      "Episode 12\tAverage Score: 0.89\n",
      "Episode 13\tAverage Score: 0.89\n",
      "Episode 14\tAverage Score: 0.90\n",
      "Episode 15\tAverage Score: 0.91\n",
      "Episode 16\tAverage Score: 0.93\n",
      "Episode 17\tAverage Score: 0.96\n",
      "Episode 18\tAverage Score: 0.99\n",
      "Episode 19\tAverage Score: 1.05\n",
      "Episode 20\tAverage Score: 1.08\n",
      "Episode 21\tAverage Score: 1.15\n",
      "Episode 22\tAverage Score: 1.21\n",
      "Episode 23\tAverage Score: 1.29\n",
      "Episode 24\tAverage Score: 1.34\n",
      "Episode 25\tAverage Score: 1.38\n",
      "Episode 26\tAverage Score: 1.47\n",
      "Episode 27\tAverage Score: 1.56\n",
      "Episode 28\tAverage Score: 1.72\n",
      "Episode 29\tAverage Score: 1.89\n",
      "Episode 30\tAverage Score: 2.05\n",
      "Episode 31\tAverage Score: 2.27\n",
      "Episode 32\tAverage Score: 2.58\n",
      "Episode 33\tAverage Score: 2.88\n",
      "Episode 34\tAverage Score: 3.12\n",
      "Episode 35\tAverage Score: 3.42\n",
      "Episode 36\tAverage Score: 3.68\n",
      "Episode 37\tAverage Score: 3.94\n",
      "Episode 38\tAverage Score: 4.28\n",
      "Episode 39\tAverage Score: 4.53\n",
      "Episode 40\tAverage Score: 4.89\n",
      "Episode 41\tAverage Score: 5.27\n",
      "Episode 42\tAverage Score: 5.59\n",
      "Episode 43\tAverage Score: 6.01\n",
      "Episode 44\tAverage Score: 6.39\n",
      "Episode 45\tAverage Score: 6.77\n",
      "Episode 46\tAverage Score: 7.20\n",
      "Episode 47\tAverage Score: 7.65\n",
      "Episode 48\tAverage Score: 8.03\n",
      "Episode 49\tAverage Score: 8.43\n",
      "Episode 50\tAverage Score: 8.87\n",
      "Episode 51\tAverage Score: 9.28\n",
      "Episode 52\tAverage Score: 9.77\n",
      "Episode 53\tAverage Score: 10.25\n",
      "Episode 54\tAverage Score: 10.75\n",
      "Episode 55\tAverage Score: 11.22\n",
      "Episode 56\tAverage Score: 11.68\n",
      "Episode 57\tAverage Score: 12.11\n",
      "Episode 58\tAverage Score: 12.55\n",
      "Episode 59\tAverage Score: 12.97\n",
      "Episode 60\tAverage Score: 13.38\n",
      "Episode 61\tAverage Score: 13.79\n",
      "Episode 62\tAverage Score: 14.19\n",
      "Episode 63\tAverage Score: 14.57\n",
      "Episode 64\tAverage Score: 14.94\n",
      "Episode 65\tAverage Score: 15.31\n",
      "Episode 66\tAverage Score: 15.66\n",
      "Episode 67\tAverage Score: 16.00\n",
      "Episode 68\tAverage Score: 16.32\n",
      "Episode 69\tAverage Score: 16.64\n",
      "Episode 70\tAverage Score: 16.94\n",
      "Episode 71\tAverage Score: 17.24\n",
      "Episode 72\tAverage Score: 17.53\n",
      "Episode 73\tAverage Score: 17.82\n",
      "Episode 74\tAverage Score: 18.09\n",
      "Episode 75\tAverage Score: 18.35\n",
      "Episode 76\tAverage Score: 18.61\n",
      "Episode 77\tAverage Score: 18.87\n",
      "Episode 78\tAverage Score: 19.11\n",
      "Episode 79\tAverage Score: 19.36\n",
      "Episode 80\tAverage Score: 19.60\n",
      "Episode 81\tAverage Score: 19.84\n",
      "Episode 82\tAverage Score: 20.06\n",
      "Episode 83\tAverage Score: 20.29\n",
      "Episode 84\tAverage Score: 20.50\n",
      "Episode 85\tAverage Score: 20.71\n",
      "Episode 86\tAverage Score: 20.91\n",
      "Episode 87\tAverage Score: 21.10\n",
      "Episode 88\tAverage Score: 21.29\n",
      "Episode 89\tAverage Score: 21.47\n",
      "Episode 90\tAverage Score: 21.65\n",
      "Episode 91\tAverage Score: 21.84\n",
      "Episode 92\tAverage Score: 22.02\n",
      "Episode 93\tAverage Score: 22.18\n",
      "Episode 94\tAverage Score: 22.35\n",
      "Episode 95\tAverage Score: 22.53\n",
      "Episode 96\tAverage Score: 22.69\n",
      "Episode 97\tAverage Score: 22.85\n",
      "Episode 98\tAverage Score: 23.01\n",
      "Episode 99\tAverage Score: 23.17\n",
      "Episode 100\tAverage Score: 23.33\n",
      "Episode 101\tAverage Score: 23.71\n",
      "Episode 102\tAverage Score: 24.09\n",
      "Episode 103\tAverage Score: 24.47\n",
      "Episode 104\tAverage Score: 24.84\n",
      "Episode 105\tAverage Score: 25.22\n",
      "Episode 106\tAverage Score: 25.59\n",
      "Episode 107\tAverage Score: 25.96\n",
      "Episode 108\tAverage Score: 26.31\n",
      "Episode 109\tAverage Score: 26.67\n",
      "Episode 110\tAverage Score: 27.02\n",
      "Episode 111\tAverage Score: 27.38\n",
      "Episode 112\tAverage Score: 27.71\n",
      "Episode 113\tAverage Score: 28.04\n",
      "Episode 114\tAverage Score: 28.40\n",
      "Episode 115\tAverage Score: 28.72\n",
      "Episode 116\tAverage Score: 29.06\n",
      "Episode 117\tAverage Score: 29.40\n",
      "Episode 118\tAverage Score: 29.74\n",
      "Episode 119\tAverage Score: 30.07\n",
      "\n",
      "Environment solved in 119 episodes!\n"
     ]
    }
   ],
   "source": [
    "def ddpg(n_episodes=1000, print_every=1):\n",
    "    scores_deque = deque(maxlen=avg_over)\n",
    "    scores_global = []\n",
    "    average_global = []\n",
    "    best_avg = -np.inf\n",
    "    solved = False\n",
    "\n",
    "    for i_episode in range(1, n_episodes+1):\n",
    "        env_info = env.reset(train_mode=True)[brain_name] # reset the environment\n",
    "        states = env_info.vector_observations\n",
    "        scores = np.zeros(num_agents)\n",
    "        agent.reset()\n",
    "\n",
    "        score_average = 0\n",
    "        for t in count():\n",
    "            actions = agent.act(states, add_noise=True)\n",
    "            env_info = env.step(actions)[brain_name]      # send the action to the environment\n",
    "            next_states = env_info.vector_observations   # get the next state\n",
    "            rewards = env_info.rewards                   # get the reward\n",
    "            dones = env_info.local_done\n",
    "            agent.step(states, actions, rewards, next_states, dones, t)\n",
    "            states = next_states\n",
    "            scores += rewards\n",
    "            if np.any(dones):                           # exit loop if episode finished\n",
    "                break\n",
    "                \n",
    "        score = np.mean(scores)\n",
    "        scores_deque.append(score)\n",
    "        score_average = np.mean(scores_deque)\n",
    "        scores_global.append(score)\n",
    "        average_global.append(score_average)\n",
    "        \n",
    "        print('\\rEpisode {}\\tAverage Score: {:.2f}'.format(i_episode, np.mean(scores_deque)), end=\"\")\n",
    "        \n",
    "        if i_episode % print_every == 0:\n",
    "            torch.save(agent.actor_local.state_dict(), 'checkpoint_actor.pth')\n",
    "            torch.save(agent.critic_local.state_dict(), 'checkpoint_critic.pth')\n",
    "            print('\\rEpisode {}\\tAverage Score: {:.2f}'.format(i_episode, np.mean(scores_deque)))\n",
    "            \n",
    "        if score_average >= 30.0:\n",
    "            if not solved:\n",
    "                solved = True\n",
    "                torch.save(agent.actor_local.state_dict(), 'best_checkpoint_actor.pth')\n",
    "                torch.save(agent.critic_local.state_dict(), 'best_checkpoint_critic.pth')\n",
    "                print('\\nEnvironment solved in {:d} episodes!'.format(i_episode))\n",
    "                break\n",
    "            \n",
    "    return scores_global, average_global\n",
    "\n",
    "scores, averages = ddpg()\n"
   ]
  },
  {
   "cell_type": "code",
   "execution_count": 7,
   "metadata": {},
   "outputs": [
    {
     "data": {
      "image/png": "[encoded data removed]",
      "text/plain": [
       "<Figure size 432x288 with 2 Axes>"
      ]
     },
     "metadata": {
      "needs_background": "light"
     },
     "output_type": "display_data"
    }
   ],
   "source": [
    "fig = plt.figure()\n",
    "plt.subplot(2, 1, 1)\n",
    "plt.plot(np.arange(1, len(scores)+1), scores)\n",
    "plt.ylabel('Score')\n",
    "plt.xlabel('Episode #')\n",
    "\n",
    "plt.subplot(2, 1, 2)\n",
    "plt.plot(np.arange(1, len(scores)+1), averages)\n",
    "plt.ylabel('Average Score')\n",
    "plt.xlabel('Episode #')\n",
    "plt.show()"
   ]
  },
  {
   "cell_type": "markdown",
   "metadata": {},
   "source": [
    "### 4. Watch a smart agent"
   ]
  },
  {
   "cell_type": "code",
   "execution_count": null,
   "metadata": {},
   "outputs": [],
   "source": [
    "agent.actor_local.load_state_dict(torch.load('checkpoint_actor.pth'))\n",
    "agent.critic_local.load_state_dict(torch.load('checkpoint_critic.pth'))\n",
    "\n",
    "env_info = env.reset(train_mode=False)[brain_name]\n",
    "\n",
    "## Watch the agent performing in the environment\n",
    "scores_episode = np.zeros(num_agents)\n",
    "for i in range(5000):\n",
    "    actions = agent.act(states, add_noise=False)\n",
    "    env_info = env.step(actions)[brain_name]\n",
    "    states = env_info.vector_observations\n",
    "    rewards = env_info.rewards\n",
    "    scores_episode += rewards\n",
    "\n",
    "print('Score for this episode: {:.2f}'.format(scores_episode.mean()))"
   ]
  },
  {
   "cell_type": "code",
   "execution_count": null,
   "metadata": {},
   "outputs": [],
   "source": [
    "env.close()"
   ]
  }
 ],
 "metadata": {
  "kernelspec": {
   "display_name": "Python 3",
   "language": "python",
   "name": "python3"
  },
  "language_info": {
   "codemirror_mode": {
    "name": "ipython",
    "version": 3
   },
   "file_extension": ".py",
   "mimetype": "text/x-python",
   "name": "python",
   "nbconvert_exporter": "python",
   "pygments_lexer": "ipython3",
   "version": "3.8.3"
  }
 },
 "nbformat": 4,
 "nbformat_minor": 2
}
